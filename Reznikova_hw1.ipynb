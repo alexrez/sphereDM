{
 "cells": [
  {
   "cell_type": "markdown",
   "metadata": {},
   "source": [
    "**Общая информация**\n",
    "\n",
    "**Срок сдачи:** 20 марта 2019, 06:00 <br\\>\n",
    "**Штраф за опоздание:** -1 балл после 06:00 20 марта, -2 балла после 06:00 27 марта, -3 балла после 06:00 3 апреля\n",
    "\n",
    "При отправлении ДЗ указывайте фамилию в названии файла\n",
    "Присылать ДЗ необходимо в виде ссылки на свой github репозиторий в slack @alkhamush\n",
    "\n",
    "Необходимо в slack скинуть ссылку в личный чат @alkhamush\n",
    "Пример ссылки:\n",
    "https://github.com/stroykova/spheremailru/stroykova_hw1.ipynb \n",
    "\n",
    "\n",
    "Используйте данный Ipython Notebook при оформлении домашнего задания."
   ]
  },
  {
   "cell_type": "markdown",
   "metadata": {},
   "source": [
    "###### Задание 1 (2 баллов)\n",
    "Реализовать KNN в классе MyKNeighborsClassifier (обязательное условие: точность не ниже sklearn реализации)\n",
    "Разберитесь самостоятельно, какая мера расстояния используется в KNeighborsClassifier дефолтно и реализуйте свой алгоритм именно с этой мерой. Самостоятельно разберитесь, как считается score из KNeighborsClassifier и реализуйте аналог в своём классе. Score не должен уступать значению KNN из sklearn\n",
    "\n",
    "###### Задание 2 (2 балла)\n",
    "Добиться скорости работы на fit,  predict и predict_proba сравнимой со sklearn для iris и mnist\n",
    "Для этого используем numpy\n",
    "\n",
    "###### Задание 3 (2 балла)\n",
    "Для iris найдите такой параметр n_neighbors, при котором выдаётся наилучший score. Нарисуйте график зависимости score от n_neighbors\n",
    "\n",
    "###### Задание 4 (3 балла)\n",
    "Добавить algorithm='kd_tree' в реализацию KNN (использовать KDTree из sklearn.neighbors). Значение n_neighbors нужно взять из задания 3. Добиться скорости работы на fit,  predict и predict_proba сравнимой со sklearn для iris и mnist\n",
    "Для этого используем numpy. Score не должен уступать значению KNN из sklearn\n",
    "\n",
    "###### Задание 5 (1 балла)\n",
    "Описать для чего нужны следующие библиотеки/классы/функции (список будет ниже)\n",
    "\n",
    "**Штрафные баллы:**\n",
    "\n",
    "1. Невыполнение PEP8 -1 балл\n",
    "2. Отсутствие фамилии в имени скрипта (скрипт должен называться по аналогии со stroykova_hw1.ipynb) -1 балл\n",
    "3. Все строчки должны быть выполнены. Нужно, чтобы output команды можно было увидеть уже в git'е. В противном случае -1 балл\n",
    "4. При оформлении ДЗ нужно пользоваться данным файлом в качестве шаблона. Не нужно удалять и видоизменять структуру кода и текст. В противном случае -1 балл\n"
   ]
  },
  {
   "cell_type": "code",
   "execution_count": 1,
   "metadata": {},
   "outputs": [],
   "source": [
    "import numpy as np\n",
    "import matplotlib.pyplot as plt\n",
    "\n",
    "import seaborn as sns\n",
    "from sklearn import datasets\n",
    "from sklearn.base import ClassifierMixin\n",
    "from sklearn.datasets import fetch_openml\n",
    "from sklearn.neighbors.base import NeighborsBase, KNeighborsMixin, SupervisedIntegerMixin \n",
    "from sklearn.model_selection import train_test_split\n",
    "from sklearn.neighbors import KNeighborsClassifier\n",
    "from sklearn.neighbors import KDTree\n",
    "from sklearn import metrics\n",
    "from scipy import stats\n",
    "%load_ext pycodestyle_magic"
   ]
  },
  {
   "cell_type": "code",
   "execution_count": 2,
   "metadata": {},
   "outputs": [],
   "source": [
    "# %%pycodestyle\n",
    "\n",
    "\n",
    "class MyKNeighborsClassifier(NeighborsBase, KNeighborsMixin,\n",
    "                             SupervisedIntegerMixin, ClassifierMixin):\n",
    "\n",
    "    def __init__(self, n_neighbors, algorithm='brute'):\n",
    "        self.n_neighbors = n_neighbors\n",
    "        self.algorithm = algorithm\n",
    "\n",
    "    def fit(self, X, y):\n",
    "        if self.algorithm == 'kd_tree':\n",
    "            self._X = KDTree(X)\n",
    "        else:\n",
    "            self._X = X\n",
    "        if not isinstance(y.dtype, int):\n",
    "            self._y = np.array(y, dtype=int)\n",
    "        else:\n",
    "            self._y = y\n",
    "        self.classes = np.unique(y)\n",
    "        return self\n",
    "\n",
    "    def find_neighbors(self, X):\n",
    "        if isinstance(self._X, KDTree):\n",
    "            knn_dist, knn_ind = self._X.query(X, k=self.n_neighbors)\n",
    "        else:\n",
    "            dist = metrics.pairwise_distances(X, self._X)\n",
    "            tmp_ind = np.arange(dist.shape[0])[:, None]\n",
    "            knn_ind = np.argpartition(dist,\n",
    "                                      self.n_neighbors,\n",
    "                                      axis=1)[:, :self.n_neighbors]\n",
    "            knn_dist = np.array(dist[tmp_ind, knn_ind])\n",
    "            knn_ind = knn_ind[tmp_ind, np.argsort(knn_dist)]\n",
    "        return knn_ind\n",
    "\n",
    "    def predict(self, X):\n",
    "        knn_ind = self.find_neighbors(X)\n",
    "        y_pred, _ = stats.mode(np.array(self._y[knn_ind]), axis=1)\n",
    "        return self.classes[y_pred].ravel()\n",
    "\n",
    "    def predict_proba(self, X):\n",
    "        knn_ind = self.find_neighbors(X)\n",
    "        test_ind = X.shape[0]\n",
    "        classes_ind = self.classes.shape[0]\n",
    "        y_proba = np.zeros((test_ind, classes_ind), dtype=int)\n",
    "        for i in range(test_ind):\n",
    "            y_proba[i] += np.bincount(self._y[knn_ind][i],\n",
    "                                      minlength=classes_ind)\n",
    "        return y_proba / self.n_neighbors\n",
    "\n",
    "    def score(self, X, y):\n",
    "        y_proba = self.predict(X)\n",
    "        return np.mean(y_proba == y)"
   ]
  },
  {
   "cell_type": "markdown",
   "metadata": {},
   "source": [
    "**IRIS**"
   ]
  },
  {
   "cell_type": "code",
   "execution_count": 3,
   "metadata": {},
   "outputs": [],
   "source": [
    "iris = datasets.load_iris()"
   ]
  },
  {
   "cell_type": "code",
   "execution_count": 4,
   "metadata": {},
   "outputs": [],
   "source": [
    "X_train, X_test, y_train, y_test = train_test_split(iris.data, iris.target, test_size=0.1, stratify=iris.target)"
   ]
  },
  {
   "cell_type": "code",
   "execution_count": 5,
   "metadata": {},
   "outputs": [],
   "source": [
    "clf = KNeighborsClassifier(n_neighbors=2, algorithm='brute')\n",
    "my_clf = MyKNeighborsClassifier(n_neighbors=2)"
   ]
  },
  {
   "cell_type": "code",
   "execution_count": 6,
   "metadata": {},
   "outputs": [
    {
     "name": "stdout",
     "output_type": "stream",
     "text": [
      "CPU times: user 1.21 ms, sys: 853 µs, total: 2.06 ms\n",
      "Wall time: 1.32 ms\n"
     ]
    },
    {
     "data": {
      "text/plain": [
       "KNeighborsClassifier(algorithm='brute', leaf_size=30, metric='minkowski',\n",
       "           metric_params=None, n_jobs=None, n_neighbors=2, p=2,\n",
       "           weights='uniform')"
      ]
     },
     "execution_count": 6,
     "metadata": {},
     "output_type": "execute_result"
    }
   ],
   "source": [
    "%time clf.fit(X_train, y_train)"
   ]
  },
  {
   "cell_type": "code",
   "execution_count": 7,
   "metadata": {},
   "outputs": [
    {
     "name": "stdout",
     "output_type": "stream",
     "text": [
      "CPU times: user 254 µs, sys: 146 µs, total: 400 µs\n",
      "Wall time: 300 µs\n"
     ]
    },
    {
     "data": {
      "text/plain": [
       "MyKNeighborsClassifier(algorithm='brute', n_neighbors=2)"
      ]
     },
     "execution_count": 7,
     "metadata": {},
     "output_type": "execute_result"
    }
   ],
   "source": [
    "%time my_clf.fit(X_train, y_train)"
   ]
  },
  {
   "cell_type": "code",
   "execution_count": 8,
   "metadata": {},
   "outputs": [
    {
     "name": "stdout",
     "output_type": "stream",
     "text": [
      "CPU times: user 6.44 ms, sys: 3.72 ms, total: 10.2 ms\n",
      "Wall time: 7.48 ms\n"
     ]
    },
    {
     "data": {
      "text/plain": [
       "array([0, 1, 0, 0, 2, 1, 0, 0, 2, 1, 1, 1, 2, 2, 2])"
      ]
     },
     "execution_count": 8,
     "metadata": {},
     "output_type": "execute_result"
    }
   ],
   "source": [
    "%time clf.predict(X_test)"
   ]
  },
  {
   "cell_type": "code",
   "execution_count": 9,
   "metadata": {},
   "outputs": [
    {
     "name": "stdout",
     "output_type": "stream",
     "text": [
      "CPU times: user 1.66 ms, sys: 845 µs, total: 2.5 ms\n",
      "Wall time: 1.84 ms\n"
     ]
    },
    {
     "data": {
      "text/plain": [
       "array([0, 1, 0, 0, 2, 1, 0, 0, 2, 1, 1, 1, 2, 2, 2])"
      ]
     },
     "execution_count": 9,
     "metadata": {},
     "output_type": "execute_result"
    }
   ],
   "source": [
    "%time my_clf.predict(X_test)"
   ]
  },
  {
   "cell_type": "code",
   "execution_count": 10,
   "metadata": {},
   "outputs": [
    {
     "name": "stdout",
     "output_type": "stream",
     "text": [
      "CPU times: user 1.96 ms, sys: 1.03 ms, total: 2.99 ms\n",
      "Wall time: 2.2 ms\n"
     ]
    },
    {
     "data": {
      "text/plain": [
       "array([[1., 0., 0.],\n",
       "       [0., 1., 0.],\n",
       "       [1., 0., 0.],\n",
       "       [1., 0., 0.],\n",
       "       [0., 0., 1.],\n",
       "       [0., 1., 0.],\n",
       "       [1., 0., 0.],\n",
       "       [1., 0., 0.],\n",
       "       [0., 0., 1.],\n",
       "       [0., 1., 0.],\n",
       "       [0., 1., 0.],\n",
       "       [0., 1., 0.],\n",
       "       [0., 0., 1.],\n",
       "       [0., 0., 1.],\n",
       "       [0., 0., 1.]])"
      ]
     },
     "execution_count": 10,
     "metadata": {},
     "output_type": "execute_result"
    }
   ],
   "source": [
    "%time clf.predict_proba(X_test)"
   ]
  },
  {
   "cell_type": "code",
   "execution_count": 11,
   "metadata": {},
   "outputs": [
    {
     "name": "stdout",
     "output_type": "stream",
     "text": [
      "CPU times: user 1.33 ms, sys: 985 µs, total: 2.31 ms\n",
      "Wall time: 1.3 ms\n"
     ]
    },
    {
     "data": {
      "text/plain": [
       "array([[1., 0., 0.],\n",
       "       [0., 1., 0.],\n",
       "       [1., 0., 0.],\n",
       "       [1., 0., 0.],\n",
       "       [0., 0., 1.],\n",
       "       [0., 1., 0.],\n",
       "       [1., 0., 0.],\n",
       "       [1., 0., 0.],\n",
       "       [0., 0., 1.],\n",
       "       [0., 1., 0.],\n",
       "       [0., 1., 0.],\n",
       "       [0., 1., 0.],\n",
       "       [0., 0., 1.],\n",
       "       [0., 0., 1.],\n",
       "       [0., 0., 1.]])"
      ]
     },
     "execution_count": 11,
     "metadata": {},
     "output_type": "execute_result"
    }
   ],
   "source": [
    "%time my_clf.predict_proba(X_test)"
   ]
  },
  {
   "cell_type": "code",
   "execution_count": 12,
   "metadata": {},
   "outputs": [
    {
     "data": {
      "text/plain": [
       "1.0"
      ]
     },
     "execution_count": 12,
     "metadata": {},
     "output_type": "execute_result"
    }
   ],
   "source": [
    "clf.score(X_test, y_test)"
   ]
  },
  {
   "cell_type": "code",
   "execution_count": 13,
   "metadata": {},
   "outputs": [
    {
     "data": {
      "text/plain": [
       "1.0"
      ]
     },
     "execution_count": 13,
     "metadata": {},
     "output_type": "execute_result"
    }
   ],
   "source": [
    "my_clf.score(X_test, y_test)"
   ]
  },
  {
   "cell_type": "markdown",
   "metadata": {},
   "source": [
    "Задание 3"
   ]
  },
  {
   "cell_type": "code",
   "execution_count": 14,
   "metadata": {},
   "outputs": [
    {
     "name": "stdout",
     "output_type": "stream",
     "text": [
      "Наилучшее число n_neighbor: 12\n",
      "Наилучший score: 0.9800000000000001\n"
     ]
    },
    {
     "data": {
      "image/png": "[encoded data removed]",
      "text/plain": [
       "<Figure size 1008x360 with 1 Axes>"
      ]
     },
     "metadata": {
      "needs_background": "light"
     },
     "output_type": "display_data"
    }
   ],
   "source": [
    "# %%pycodestyle\n",
    "# размер тестовой выборки 10% от всех данных (аналогично Заданию 1)\n",
    "\n",
    "from sklearn.model_selection import cross_val_score\n",
    "\n",
    "n_neighbors = range(1, 70)\n",
    "mean_score = [0]*len(n_neighbors)\n",
    "\n",
    "for nn in n_neighbors:\n",
    "    knn = KNeighborsClassifier(n_neighbors=nn)\n",
    "    scores = cross_val_score(knn, iris.data, iris.target, cv=10)\n",
    "    mean_score[nn-1] = scores.mean()\n",
    "\n",
    "n_optimal = np.array(mean_score).argmax()\n",
    "score_optimal = mean_score[n_optimal]\n",
    "print(\"Наилучшее число n_neighbor: {0}\\nНаилучший score: {1}\"\n",
    "      .format(n_optimal, score_optimal))\n",
    "\n",
    "plt.figure(figsize=(14, 5))\n",
    "ax = plt.subplot(111)\n",
    "ax.set_title('Зависимость значений score от выбора n_neighbor')\n",
    "ax.plot(n_neighbors, mean_score)\n",
    "plt.show()"
   ]
  },
  {
   "cell_type": "markdown",
   "metadata": {},
   "source": [
    "**MNIST**"
   ]
  },
  {
   "cell_type": "code",
   "execution_count": 15,
   "metadata": {},
   "outputs": [],
   "source": [
    "# mnist = fetch_mldata('MNIST original')\n",
    "mnist = fetch_openml('mnist_784')"
   ]
  },
  {
   "cell_type": "code",
   "execution_count": 16,
   "metadata": {},
   "outputs": [],
   "source": [
    "X_train, X_test, y_train, y_test = train_test_split(mnist.data, mnist.target, test_size=0.01, stratify=mnist.target)"
   ]
  },
  {
   "cell_type": "code",
   "execution_count": 17,
   "metadata": {},
   "outputs": [],
   "source": [
    "clf = KNeighborsClassifier(n_neighbors=2, algorithm='brute')\n",
    "my_clf = MyKNeighborsClassifier(n_neighbors=2)"
   ]
  },
  {
   "cell_type": "code",
   "execution_count": 18,
   "metadata": {},
   "outputs": [
    {
     "name": "stdout",
     "output_type": "stream",
     "text": [
      "CPU times: user 198 ms, sys: 4.85 ms, total: 203 ms\n",
      "Wall time: 201 ms\n"
     ]
    },
    {
     "data": {
      "text/plain": [
       "KNeighborsClassifier(algorithm='brute', leaf_size=30, metric='minkowski',\n",
       "           metric_params=None, n_jobs=None, n_neighbors=2, p=2,\n",
       "           weights='uniform')"
      ]
     },
     "execution_count": 18,
     "metadata": {},
     "output_type": "execute_result"
    }
   ],
   "source": [
    "%time clf.fit(X_train, y_train)"
   ]
  },
  {
   "cell_type": "code",
   "execution_count": 19,
   "metadata": {},
   "outputs": [
    {
     "name": "stdout",
     "output_type": "stream",
     "text": [
      "CPU times: user 72.7 ms, sys: 2.19 ms, total: 74.9 ms\n",
      "Wall time: 73.4 ms\n"
     ]
    },
    {
     "data": {
      "text/plain": [
       "MyKNeighborsClassifier(algorithm='brute', n_neighbors=2)"
      ]
     },
     "execution_count": 19,
     "metadata": {},
     "output_type": "execute_result"
    }
   ],
   "source": [
    "%time my_clf.fit(X_train, y_train)"
   ]
  },
  {
   "cell_type": "code",
   "execution_count": 20,
   "metadata": {},
   "outputs": [
    {
     "name": "stdout",
     "output_type": "stream",
     "text": [
      "CPU times: user 6.17 s, sys: 449 ms, total: 6.62 s\n",
      "Wall time: 3.87 s\n"
     ]
    },
    {
     "data": {
      "text/plain": [
       "array(['8', '0', '7', '2', '1', '3', '9', '8', '0', '0', '2', '0', '6',\n",
       "       '5', '8', '5', '3', '7', '6', '9', '1', '7', '1', '0', '5', '9',\n",
       "       '4', '4', '8', '8', '5', '2', '4', '6', '6', '1', '3', '3', '1',\n",
       "       '3', '2', '9', '6', '3', '1', '2', '9', '2', '7', '3', '2', '3',\n",
       "       '1', '5', '8', '6', '4', '8', '1', '1', '6', '9', '9', '5', '4',\n",
       "       '4', '4', '6', '0', '1', '3', '4', '1', '3', '0', '4', '4', '5',\n",
       "       '7', '6', '2', '3', '3', '4', '1', '7', '4', '5', '3', '4', '5',\n",
       "       '0', '7', '9', '5', '1', '9', '9', '3', '6', '8', '7', '7', '7',\n",
       "       '5', '8', '6', '5', '1', '7', '4', '1', '2', '0', '2', '1', '1',\n",
       "       '3', '2', '9', '5', '3', '2', '1', '0', '0', '0', '4', '7', '8',\n",
       "       '9', '7', '4', '7', '3', '9', '3', '1', '0', '9', '6', '6', '8',\n",
       "       '7', '4', '8', '6', '7', '9', '3', '5', '1', '7', '4', '1', '9',\n",
       "       '8', '0', '8', '2', '8', '1', '7', '7', '8', '7', '2', '2', '4',\n",
       "       '9', '0', '4', '0', '2', '6', '2', '4', '8', '3', '7', '4', '2',\n",
       "       '1', '8', '5', '0', '7', '6', '4', '4', '2', '9', '4', '3', '8',\n",
       "       '7', '7', '4', '6', '6', '5', '1', '3', '9', '9', '7', '7', '1',\n",
       "       '3', '5', '5', '0', '0', '5', '7', '7', '1', '0', '7', '0', '2',\n",
       "       '1', '7', '7', '6', '4', '0', '3', '1', '1', '9', '1', '6', '5',\n",
       "       '6', '5', '3', '8', '6', '8', '2', '9', '3', '1', '4', '7', '8',\n",
       "       '6', '7', '4', '4', '9', '8', '0', '9', '8', '2', '2', '7', '0',\n",
       "       '0', '1', '4', '7', '2', '2', '2', '1', '9', '6', '1', '2', '4',\n",
       "       '1', '5', '3', '4', '0', '6', '3', '3', '8', '4', '8', '2', '1',\n",
       "       '9', '6', '0', '0', '5', '7', '7', '6', '6', '3', '1', '2', '4',\n",
       "       '5', '6', '0', '7', '8', '5', '0', '3', '9', '3', '2', '5', '2',\n",
       "       '1', '3', '8', '2', '9', '8', '8', '8', '3', '4', '2', '1', '2',\n",
       "       '1', '5', '3', '3', '1', '4', '8', '4', '5', '5', '9', '0', '2',\n",
       "       '3', '0', '7', '6', '3', '6', '8', '2', '3', '0', '4', '9', '7',\n",
       "       '9', '6', '3', '4', '0', '3', '1', '5', '1', '1', '5', '9', '4',\n",
       "       '0', '2', '2', '4', '6', '5', '0', '9', '1', '2', '8', '4', '8',\n",
       "       '0', '7', '5', '0', '1', '0', '9', '7', '6', '1', '2', '3', '9',\n",
       "       '8', '1', '5', '9', '3', '8', '8', '3', '4', '1', '4', '6', '5',\n",
       "       '1', '6', '7', '0', '2', '3', '6', '3', '5', '8', '7', '8', '4',\n",
       "       '1', '7', '1', '5', '6', '6', '1', '9', '3', '7', '3', '5', '4',\n",
       "       '2', '0', '0', '8', '9', '5', '2', '4', '5', '6', '1', '3', '8',\n",
       "       '1', '0', '0', '9', '6', '3', '2', '3', '7', '7', '9', '4', '5',\n",
       "       '0', '4', '6', '2', '6', '8', '4', '6', '9', '0', '0', '5', '7',\n",
       "       '6', '1', '9', '9', '6', '3', '7', '3', '9', '3', '5', '0', '5',\n",
       "       '2', '0', '7', '4', '3', '8', '1', '3', '1', '5', '4', '9', '5',\n",
       "       '2', '2', '1', '2', '9', '8', '5', '5', '9', '7', '6', '3', '7',\n",
       "       '8', '4', '3', '6', '1', '3', '9', '6', '7', '9', '6', '4', '2',\n",
       "       '4', '9', '5', '5', '4', '5', '6', '0', '9', '9', '3', '6', '5',\n",
       "       '7', '2', '9', '3', '6', '1', '7', '1', '3', '1', '7', '5', '2',\n",
       "       '9', '8', '7', '7', '3', '6', '3', '0', '5', '1', '8', '1', '9',\n",
       "       '1', '9', '1', '9', '6', '9', '1', '6', '6', '7', '0', '2', '6',\n",
       "       '4', '6', '7', '9', '8', '4', '9', '9', '1', '4', '7', '5', '6',\n",
       "       '2', '8', '1', '3', '4', '5', '2', '1', '0', '7', '5', '0', '2',\n",
       "       '9', '0', '3', '6', '8', '0', '6', '3', '0', '0', '5', '7', '6',\n",
       "       '1', '7', '0', '7', '4', '5', '9', '4', '3', '5', '8', '0', '1',\n",
       "       '1', '8', '2', '9', '5', '3', '4', '5', '8', '4', '2', '0', '4',\n",
       "       '0', '7', '9', '8', '1', '6', '0', '6', '9', '0', '3', '6', '1',\n",
       "       '7', '2', '1', '9', '2', '8', '9', '3', '9', '6', '1', '2', '2',\n",
       "       '4', '9', '2', '0', '1', '8', '1', '0', '0', '2', '1', '1', '3',\n",
       "       '8', '8', '1', '2', '3', '6', '4', '1', '6', '7', '5', '0', '1',\n",
       "       '2', '6', '3', '2', '8', '2', '1', '2', '2', '6', '0'],\n",
       "      dtype=object)"
      ]
     },
     "execution_count": 20,
     "metadata": {},
     "output_type": "execute_result"
    }
   ],
   "source": [
    "%time clf.predict(X_test)"
   ]
  },
  {
   "cell_type": "code",
   "execution_count": 21,
   "metadata": {},
   "outputs": [
    {
     "name": "stdout",
     "output_type": "stream",
     "text": [
      "CPU times: user 6.44 s, sys: 449 ms, total: 6.89 s\n",
      "Wall time: 3.98 s\n"
     ]
    },
    {
     "data": {
      "text/plain": [
       "array(['8', '0', '7', '2', '1', '3', '9', '8', '0', '0', '2', '0', '6',\n",
       "       '5', '8', '5', '3', '7', '6', '9', '1', '7', '1', '0', '5', '9',\n",
       "       '4', '4', '8', '8', '5', '2', '4', '6', '6', '1', '3', '3', '1',\n",
       "       '3', '2', '9', '6', '3', '1', '2', '9', '2', '7', '3', '2', '3',\n",
       "       '1', '5', '8', '6', '4', '8', '1', '1', '6', '9', '9', '5', '4',\n",
       "       '4', '4', '6', '0', '1', '3', '4', '1', '3', '0', '4', '4', '5',\n",
       "       '7', '6', '2', '3', '3', '4', '1', '7', '4', '5', '3', '4', '5',\n",
       "       '0', '7', '9', '5', '1', '9', '9', '3', '6', '8', '7', '7', '7',\n",
       "       '5', '8', '6', '5', '1', '7', '4', '1', '2', '0', '2', '1', '1',\n",
       "       '3', '2', '9', '5', '3', '2', '1', '0', '0', '0', '4', '7', '8',\n",
       "       '9', '7', '4', '7', '3', '9', '3', '1', '0', '9', '6', '6', '8',\n",
       "       '7', '4', '8', '6', '7', '9', '3', '5', '1', '7', '4', '1', '9',\n",
       "       '8', '0', '8', '2', '8', '1', '7', '7', '8', '7', '2', '2', '4',\n",
       "       '9', '0', '4', '0', '2', '6', '2', '4', '8', '3', '7', '4', '2',\n",
       "       '1', '8', '5', '0', '7', '6', '4', '4', '2', '9', '4', '3', '8',\n",
       "       '7', '7', '4', '6', '6', '5', '1', '3', '9', '9', '7', '7', '1',\n",
       "       '3', '5', '5', '0', '0', '5', '7', '7', '1', '0', '7', '0', '2',\n",
       "       '1', '7', '7', '6', '4', '0', '3', '1', '1', '9', '1', '6', '5',\n",
       "       '6', '5', '3', '8', '6', '8', '2', '9', '3', '1', '4', '7', '8',\n",
       "       '6', '7', '4', '4', '9', '8', '0', '9', '8', '2', '2', '7', '0',\n",
       "       '0', '1', '4', '7', '2', '2', '2', '1', '9', '6', '1', '2', '4',\n",
       "       '1', '5', '3', '4', '0', '6', '3', '3', '8', '4', '8', '2', '1',\n",
       "       '9', '6', '0', '0', '5', '7', '7', '6', '6', '3', '1', '2', '4',\n",
       "       '5', '6', '0', '7', '8', '5', '0', '3', '9', '3', '2', '5', '2',\n",
       "       '1', '3', '8', '2', '9', '8', '8', '8', '3', '4', '2', '1', '2',\n",
       "       '1', '5', '3', '3', '1', '4', '8', '4', '5', '5', '9', '0', '2',\n",
       "       '3', '0', '7', '6', '3', '6', '8', '2', '3', '0', '4', '9', '7',\n",
       "       '9', '6', '3', '4', '0', '3', '1', '5', '1', '1', '5', '9', '4',\n",
       "       '0', '2', '2', '4', '6', '5', '0', '9', '1', '2', '8', '4', '8',\n",
       "       '0', '7', '5', '0', '1', '0', '9', '7', '6', '1', '2', '3', '9',\n",
       "       '8', '1', '5', '9', '3', '8', '8', '3', '4', '1', '4', '6', '5',\n",
       "       '1', '6', '7', '0', '2', '3', '6', '3', '5', '8', '7', '8', '4',\n",
       "       '1', '7', '1', '5', '6', '6', '1', '9', '3', '7', '3', '5', '4',\n",
       "       '2', '0', '0', '8', '9', '5', '2', '4', '5', '6', '1', '3', '8',\n",
       "       '1', '0', '0', '9', '6', '3', '2', '3', '7', '7', '9', '4', '5',\n",
       "       '0', '4', '6', '2', '6', '8', '4', '6', '9', '0', '0', '5', '7',\n",
       "       '6', '1', '9', '9', '6', '3', '7', '3', '9', '3', '5', '0', '5',\n",
       "       '2', '0', '7', '4', '3', '8', '1', '3', '1', '5', '4', '9', '5',\n",
       "       '2', '2', '1', '2', '9', '8', '5', '5', '9', '7', '6', '3', '7',\n",
       "       '8', '4', '3', '6', '1', '3', '9', '6', '7', '9', '6', '4', '2',\n",
       "       '4', '9', '5', '5', '4', '5', '6', '0', '9', '9', '3', '6', '5',\n",
       "       '7', '2', '9', '3', '6', '1', '7', '1', '3', '1', '7', '5', '2',\n",
       "       '9', '8', '7', '7', '3', '6', '3', '0', '5', '1', '8', '1', '9',\n",
       "       '1', '9', '1', '9', '6', '9', '1', '6', '6', '7', '0', '2', '6',\n",
       "       '4', '6', '7', '9', '8', '4', '9', '9', '1', '4', '7', '5', '6',\n",
       "       '2', '8', '1', '3', '4', '5', '2', '1', '0', '7', '5', '0', '2',\n",
       "       '9', '0', '3', '6', '8', '0', '6', '3', '0', '0', '5', '7', '6',\n",
       "       '1', '7', '0', '7', '4', '5', '9', '4', '3', '5', '8', '0', '1',\n",
       "       '1', '8', '2', '9', '5', '3', '4', '5', '8', '4', '2', '0', '4',\n",
       "       '0', '7', '9', '8', '1', '6', '0', '6', '9', '0', '3', '6', '1',\n",
       "       '7', '2', '1', '9', '2', '8', '9', '3', '9', '6', '1', '2', '2',\n",
       "       '4', '9', '2', '0', '1', '8', '1', '0', '0', '2', '1', '1', '3',\n",
       "       '8', '8', '1', '2', '3', '6', '4', '1', '6', '7', '5', '0', '1',\n",
       "       '2', '6', '3', '2', '8', '2', '1', '2', '2', '6', '0'],\n",
       "      dtype=object)"
      ]
     },
     "execution_count": 21,
     "metadata": {},
     "output_type": "execute_result"
    }
   ],
   "source": [
    "%time my_clf.predict(X_test)"
   ]
  },
  {
   "cell_type": "code",
   "execution_count": 22,
   "metadata": {},
   "outputs": [
    {
     "name": "stdout",
     "output_type": "stream",
     "text": [
      "CPU times: user 5.61 s, sys: 443 ms, total: 6.05 s\n",
      "Wall time: 3.6 s\n"
     ]
    },
    {
     "data": {
      "text/plain": [
       "array([[0., 0., 0., ..., 0., 1., 0.],\n",
       "       [1., 0., 0., ..., 0., 0., 0.],\n",
       "       [0., 0., 0., ..., 1., 0., 0.],\n",
       "       ...,\n",
       "       [0., 0., 1., ..., 0., 0., 0.],\n",
       "       [0., 0., 0., ..., 0., 0., 0.],\n",
       "       [1., 0., 0., ..., 0., 0., 0.]])"
      ]
     },
     "execution_count": 22,
     "metadata": {},
     "output_type": "execute_result"
    }
   ],
   "source": [
    "%time clf.predict_proba(X_test)"
   ]
  },
  {
   "cell_type": "code",
   "execution_count": 23,
   "metadata": {},
   "outputs": [
    {
     "name": "stdout",
     "output_type": "stream",
     "text": [
      "CPU times: user 6.09 s, sys: 436 ms, total: 6.53 s\n",
      "Wall time: 3.78 s\n"
     ]
    },
    {
     "data": {
      "text/plain": [
       "array([[0., 0., 0., ..., 0., 1., 0.],\n",
       "       [1., 0., 0., ..., 0., 0., 0.],\n",
       "       [0., 0., 0., ..., 1., 0., 0.],\n",
       "       ...,\n",
       "       [0., 0., 1., ..., 0., 0., 0.],\n",
       "       [0., 0., 0., ..., 0., 0., 0.],\n",
       "       [1., 0., 0., ..., 0., 0., 0.]])"
      ]
     },
     "execution_count": 23,
     "metadata": {},
     "output_type": "execute_result"
    }
   ],
   "source": [
    "%time my_clf.predict_proba(X_test)"
   ]
  },
  {
   "cell_type": "code",
   "execution_count": 24,
   "metadata": {},
   "outputs": [
    {
     "data": {
      "text/plain": [
       "0.9714285714285714"
      ]
     },
     "execution_count": 24,
     "metadata": {},
     "output_type": "execute_result"
    }
   ],
   "source": [
    "clf.score(X_test, y_test)"
   ]
  },
  {
   "cell_type": "code",
   "execution_count": 25,
   "metadata": {},
   "outputs": [
    {
     "data": {
      "text/plain": [
       "0.9714285714285714"
      ]
     },
     "execution_count": 25,
     "metadata": {},
     "output_type": "execute_result"
    }
   ],
   "source": [
    "my_clf.score(X_test, y_test)"
   ]
  },
  {
   "cell_type": "markdown",
   "metadata": {},
   "source": [
    "Задание 4"
   ]
  },
  {
   "cell_type": "code",
   "execution_count": 26,
   "metadata": {},
   "outputs": [],
   "source": [
    "clf = KNeighborsClassifier(n_neighbors=2, algorithm='kd_tree')\n",
    "my_clf = MyKNeighborsClassifier(n_neighbors=2, algorithm='kd_tree')"
   ]
  },
  {
   "cell_type": "code",
   "execution_count": 27,
   "metadata": {},
   "outputs": [],
   "source": [
    "X_train, X_test, y_train, y_test = train_test_split(mnist.data, mnist.target, test_size=0.01, stratify=mnist.target)"
   ]
  },
  {
   "cell_type": "code",
   "execution_count": 28,
   "metadata": {},
   "outputs": [
    {
     "name": "stdout",
     "output_type": "stream",
     "text": [
      "CPU times: user 1min 13s, sys: 762 ms, total: 1min 14s\n",
      "Wall time: 1min 14s\n"
     ]
    },
    {
     "data": {
      "text/plain": [
       "KNeighborsClassifier(algorithm='kd_tree', leaf_size=30, metric='minkowski',\n",
       "           metric_params=None, n_jobs=None, n_neighbors=2, p=2,\n",
       "           weights='uniform')"
      ]
     },
     "execution_count": 28,
     "metadata": {},
     "output_type": "execute_result"
    }
   ],
   "source": [
    "%time clf.fit(X_train, y_train)"
   ]
  },
  {
   "cell_type": "code",
   "execution_count": 29,
   "metadata": {},
   "outputs": [
    {
     "name": "stdout",
     "output_type": "stream",
     "text": [
      "CPU times: user 1min 17s, sys: 1.8 s, total: 1min 19s\n",
      "Wall time: 1min 20s\n"
     ]
    },
    {
     "data": {
      "text/plain": [
       "MyKNeighborsClassifier(algorithm='kd_tree', n_neighbors=2)"
      ]
     },
     "execution_count": 29,
     "metadata": {},
     "output_type": "execute_result"
    }
   ],
   "source": [
    "%time my_clf.fit(X_train, y_train)"
   ]
  },
  {
   "cell_type": "code",
   "execution_count": 30,
   "metadata": {},
   "outputs": [
    {
     "name": "stdout",
     "output_type": "stream",
     "text": [
      "CPU times: user 1min 26s, sys: 532 ms, total: 1min 27s\n",
      "Wall time: 1min 27s\n"
     ]
    },
    {
     "data": {
      "text/plain": [
       "array(['1', '4', '6', '0', '3', '5', '0', '9', '7', '3', '6', '4', '6',\n",
       "       '1', '9', '1', '9', '3', '3', '6', '9', '6', '1', '6', '3', '7',\n",
       "       '3', '8', '0', '2', '1', '3', '2', '5', '1', '1', '7', '8', '1',\n",
       "       '1', '3', '1', '6', '1', '1', '4', '3', '4', '2', '2', '8', '6',\n",
       "       '2', '4', '8', '4', '7', '4', '5', '3', '7', '3', '3', '3', '7',\n",
       "       '1', '2', '6', '4', '0', '5', '4', '7', '0', '1', '9', '5', '5',\n",
       "       '3', '5', '4', '5', '5', '2', '5', '1', '2', '4', '4', '3', '1',\n",
       "       '5', '2', '2', '2', '8', '7', '7', '6', '4', '1', '3', '9', '5',\n",
       "       '4', '3', '2', '7', '1', '2', '7', '6', '1', '6', '6', '8', '8',\n",
       "       '9', '3', '9', '6', '3', '6', '2', '9', '5', '6', '9', '9', '3',\n",
       "       '0', '8', '7', '9', '2', '7', '4', '3', '8', '3', '6', '9', '8',\n",
       "       '3', '8', '6', '5', '5', '8', '0', '3', '8', '0', '6', '2', '0',\n",
       "       '6', '4', '0', '7', '0', '5', '6', '5', '1', '6', '3', '2', '1',\n",
       "       '6', '4', '5', '1', '8', '2', '5', '9', '3', '0', '3', '9', '1',\n",
       "       '8', '0', '2', '0', '6', '8', '6', '4', '1', '2', '9', '9', '2',\n",
       "       '5', '8', '7', '6', '1', '9', '5', '9', '6', '4', '8', '7', '1',\n",
       "       '4', '2', '5', '8', '6', '4', '9', '7', '4', '4', '0', '6', '1',\n",
       "       '4', '7', '7', '0', '9', '6', '6', '3', '4', '1', '4', '5', '1',\n",
       "       '5', '6', '2', '2', '3', '1', '1', '0', '4', '9', '8', '1', '8',\n",
       "       '2', '9', '3', '8', '2', '7', '4', '2', '6', '9', '5', '4', '5',\n",
       "       '5', '6', '4', '6', '6', '7', '4', '8', '6', '1', '0', '9', '1',\n",
       "       '7', '4', '2', '8', '5', '6', '8', '8', '1', '1', '0', '7', '6',\n",
       "       '0', '7', '1', '3', '1', '9', '3', '0', '2', '5', '9', '7', '2',\n",
       "       '7', '2', '7', '8', '0', '8', '8', '6', '4', '0', '7', '7', '0',\n",
       "       '7', '6', '3', '3', '6', '7', '0', '1', '6', '0', '5', '1', '5',\n",
       "       '3', '6', '4', '3', '0', '3', '2', '5', '3', '0', '4', '1', '0',\n",
       "       '0', '4', '0', '1', '0', '9', '4', '5', '0', '9', '7', '9', '5',\n",
       "       '4', '9', '7', '1', '7', '8', '2', '6', '2', '8', '8', '1', '2',\n",
       "       '8', '1', '8', '8', '5', '2', '4', '4', '1', '3', '8', '7', '9',\n",
       "       '2', '1', '3', '2', '3', '3', '9', '5', '3', '7', '7', '3', '7',\n",
       "       '2', '0', '3', '1', '7', '8', '2', '9', '4', '0', '0', '5', '3',\n",
       "       '1', '8', '9', '7', '9', '1', '9', '2', '7', '9', '4', '3', '9',\n",
       "       '7', '0', '0', '5', '7', '9', '9', '6', '0', '7', '8', '1', '5',\n",
       "       '0', '1', '8', '1', '0', '5', '0', '9', '5', '2', '3', '2', '9',\n",
       "       '3', '7', '7', '0', '4', '4', '2', '6', '6', '2', '6', '0', '5',\n",
       "       '0', '5', '1', '7', '2', '0', '7', '0', '4', '7', '4', '0', '4',\n",
       "       '6', '8', '6', '2', '0', '3', '4', '7', '6', '4', '6', '2', '4',\n",
       "       '0', '6', '2', '1', '6', '7', '9', '2', '5', '7', '8', '7', '5',\n",
       "       '4', '9', '3', '9', '0', '9', '9', '8', '5', '7', '2', '8', '2',\n",
       "       '8', '7', '4', '2', '3', '8', '7', '0', '7', '8', '1', '8', '4',\n",
       "       '5', '6', '4', '8', '0', '0', '5', '3', '1', '4', '2', '7', '1',\n",
       "       '9', '1', '1', '2', '9', '6', '9', '7', '1', '9', '7', '9', '1',\n",
       "       '7', '9', '8', '2', '2', '3', '0', '5', '7', '9', '4', '4', '8',\n",
       "       '1', '5', '3', '5', '1', '3', '7', '0', '2', '3', '2', '8', '3',\n",
       "       '1', '5', '4', '7', '3', '1', '8', '2', '0', '5', '1', '6', '2',\n",
       "       '5', '6', '5', '8', '3', '1', '4', '8', '1', '5', '0', '3', '3',\n",
       "       '5', '1', '0', '9', '3', '5', '6', '2', '8', '2', '5', '4', '1',\n",
       "       '6', '4', '7', '4', '3', '6', '3', '0', '2', '0', '3', '9', '4',\n",
       "       '1', '7', '1', '7', '7', '3', '0', '7', '5', '9', '7', '3', '1',\n",
       "       '8', '7', '0', '8', '6', '8', '1', '1', '7', '0', '0', '2', '4',\n",
       "       '0', '9', '9', '2', '4', '6', '3', '8', '1', '3', '6', '6', '4',\n",
       "       '3', '4', '2', '7', '4', '6', '0', '1', '2', '3', '8', '2', '4',\n",
       "       '5', '1', '7', '5', '1', '6', '8', '0', '1', '9', '0', '5', '9',\n",
       "       '1', '6', '4', '4', '7', '9', '7', '5', '3', '5', '2'],\n",
       "      dtype=object)"
      ]
     },
     "execution_count": 30,
     "metadata": {},
     "output_type": "execute_result"
    }
   ],
   "source": [
    "%time clf.predict(X_test)"
   ]
  },
  {
   "cell_type": "code",
   "execution_count": 31,
   "metadata": {},
   "outputs": [
    {
     "name": "stdout",
     "output_type": "stream",
     "text": [
      "CPU times: user 1min 10s, sys: 457 ms, total: 1min 11s\n",
      "Wall time: 1min 11s\n"
     ]
    },
    {
     "data": {
      "text/plain": [
       "array(['1', '4', '6', '0', '3', '5', '0', '9', '7', '3', '6', '4', '6',\n",
       "       '1', '9', '1', '9', '3', '3', '6', '9', '6', '1', '6', '3', '7',\n",
       "       '3', '8', '0', '2', '1', '3', '2', '5', '1', '1', '7', '8', '1',\n",
       "       '1', '3', '1', '6', '1', '1', '4', '3', '4', '2', '2', '8', '6',\n",
       "       '2', '4', '8', '4', '7', '4', '5', '3', '7', '3', '3', '3', '7',\n",
       "       '1', '2', '6', '4', '0', '5', '4', '7', '0', '1', '9', '5', '5',\n",
       "       '3', '5', '4', '5', '5', '2', '5', '1', '2', '4', '4', '3', '1',\n",
       "       '5', '2', '2', '2', '8', '7', '7', '6', '4', '1', '3', '9', '5',\n",
       "       '4', '3', '2', '7', '1', '2', '7', '6', '1', '6', '6', '8', '8',\n",
       "       '9', '3', '9', '6', '3', '6', '2', '9', '5', '6', '9', '9', '3',\n",
       "       '0', '8', '7', '9', '2', '7', '4', '3', '8', '3', '6', '9', '8',\n",
       "       '3', '8', '6', '5', '5', '8', '0', '3', '8', '0', '6', '2', '0',\n",
       "       '6', '4', '0', '7', '0', '5', '6', '5', '1', '6', '3', '2', '1',\n",
       "       '6', '4', '5', '1', '8', '2', '5', '9', '3', '0', '3', '9', '1',\n",
       "       '8', '0', '2', '0', '6', '8', '6', '4', '1', '2', '9', '9', '2',\n",
       "       '5', '8', '7', '6', '1', '9', '5', '9', '6', '4', '8', '7', '1',\n",
       "       '4', '2', '5', '8', '6', '4', '9', '7', '4', '4', '0', '6', '1',\n",
       "       '4', '7', '7', '0', '9', '6', '6', '3', '4', '1', '4', '5', '1',\n",
       "       '5', '6', '2', '2', '3', '1', '1', '0', '4', '9', '8', '1', '8',\n",
       "       '2', '9', '3', '8', '2', '7', '4', '2', '6', '9', '5', '4', '5',\n",
       "       '5', '6', '4', '6', '6', '7', '4', '8', '6', '1', '0', '9', '1',\n",
       "       '7', '4', '2', '8', '5', '6', '8', '8', '1', '1', '0', '7', '6',\n",
       "       '0', '7', '1', '3', '1', '9', '3', '0', '2', '5', '9', '7', '2',\n",
       "       '7', '2', '7', '8', '0', '8', '8', '6', '4', '0', '7', '7', '0',\n",
       "       '7', '6', '3', '3', '6', '7', '0', '1', '6', '0', '5', '1', '5',\n",
       "       '3', '6', '4', '3', '0', '3', '2', '5', '3', '0', '4', '1', '0',\n",
       "       '0', '4', '0', '1', '0', '9', '4', '5', '0', '9', '7', '9', '5',\n",
       "       '4', '9', '7', '1', '7', '8', '2', '6', '2', '8', '8', '1', '2',\n",
       "       '8', '1', '8', '8', '5', '2', '4', '4', '1', '3', '8', '7', '9',\n",
       "       '2', '1', '3', '2', '3', '3', '9', '5', '3', '7', '7', '3', '7',\n",
       "       '2', '0', '3', '1', '7', '8', '2', '9', '4', '0', '0', '5', '3',\n",
       "       '1', '8', '9', '7', '9', '1', '9', '2', '7', '9', '4', '3', '9',\n",
       "       '7', '0', '0', '5', '7', '9', '9', '6', '0', '7', '8', '1', '5',\n",
       "       '0', '1', '8', '1', '0', '5', '0', '9', '5', '2', '3', '2', '9',\n",
       "       '3', '7', '7', '0', '4', '4', '2', '6', '6', '2', '6', '0', '5',\n",
       "       '0', '5', '1', '7', '2', '0', '7', '0', '4', '7', '4', '0', '4',\n",
       "       '6', '8', '6', '2', '0', '3', '4', '7', '6', '4', '6', '2', '4',\n",
       "       '0', '6', '2', '1', '6', '7', '9', '2', '5', '7', '8', '7', '5',\n",
       "       '4', '9', '3', '9', '0', '9', '9', '8', '5', '7', '2', '8', '2',\n",
       "       '8', '7', '4', '2', '3', '8', '7', '0', '7', '8', '1', '8', '4',\n",
       "       '5', '6', '4', '8', '0', '0', '5', '3', '1', '4', '2', '7', '1',\n",
       "       '9', '1', '1', '2', '9', '6', '9', '7', '1', '9', '7', '9', '1',\n",
       "       '7', '9', '8', '2', '2', '3', '0', '5', '7', '9', '4', '4', '8',\n",
       "       '1', '5', '3', '5', '1', '3', '7', '0', '2', '3', '2', '8', '3',\n",
       "       '1', '5', '4', '7', '3', '1', '8', '2', '0', '5', '1', '6', '2',\n",
       "       '5', '6', '5', '8', '3', '1', '4', '8', '1', '5', '0', '3', '3',\n",
       "       '5', '1', '0', '9', '3', '5', '6', '2', '8', '2', '5', '4', '1',\n",
       "       '6', '4', '7', '4', '3', '6', '3', '0', '2', '0', '3', '9', '4',\n",
       "       '1', '7', '1', '7', '7', '3', '0', '7', '5', '9', '7', '3', '1',\n",
       "       '8', '7', '0', '8', '6', '8', '1', '1', '7', '0', '0', '2', '4',\n",
       "       '0', '9', '9', '2', '4', '6', '3', '8', '1', '3', '6', '6', '4',\n",
       "       '3', '4', '2', '7', '4', '6', '0', '1', '2', '3', '8', '2', '4',\n",
       "       '5', '1', '7', '5', '1', '6', '8', '0', '1', '9', '0', '5', '9',\n",
       "       '1', '6', '4', '4', '7', '9', '7', '5', '3', '5', '2'],\n",
       "      dtype=object)"
      ]
     },
     "execution_count": 31,
     "metadata": {},
     "output_type": "execute_result"
    }
   ],
   "source": [
    "%time my_clf.predict(X_test)"
   ]
  },
  {
   "cell_type": "code",
   "execution_count": 32,
   "metadata": {},
   "outputs": [
    {
     "name": "stdout",
     "output_type": "stream",
     "text": [
      "CPU times: user 1min 28s, sys: 775 ms, total: 1min 29s\n",
      "Wall time: 1min 30s\n"
     ]
    },
    {
     "data": {
      "text/plain": [
       "array([[0., 1., 0., ..., 0., 0., 0.],\n",
       "       [0., 0., 0., ..., 0., 0., 0.],\n",
       "       [0., 0., 0., ..., 0., 0., 0.],\n",
       "       ...,\n",
       "       [0., 0., 0., ..., 0., 0., 0.],\n",
       "       [0., 0., 0., ..., 0., 0., 0.],\n",
       "       [0., 0., 1., ..., 0., 0., 0.]])"
      ]
     },
     "execution_count": 32,
     "metadata": {},
     "output_type": "execute_result"
    }
   ],
   "source": [
    "%time clf.predict_proba(X_test)"
   ]
  },
  {
   "cell_type": "code",
   "execution_count": 33,
   "metadata": {},
   "outputs": [
    {
     "name": "stdout",
     "output_type": "stream",
     "text": [
      "CPU times: user 1min 8s, sys: 217 ms, total: 1min 8s\n",
      "Wall time: 1min 8s\n"
     ]
    },
    {
     "data": {
      "text/plain": [
       "array([[0., 1., 0., ..., 0., 0., 0.],\n",
       "       [0., 0., 0., ..., 0., 0., 0.],\n",
       "       [0., 0., 0., ..., 0., 0., 0.],\n",
       "       ...,\n",
       "       [0., 0., 0., ..., 0., 0., 0.],\n",
       "       [0., 0., 0., ..., 0., 0., 0.],\n",
       "       [0., 0., 1., ..., 0., 0., 0.]])"
      ]
     },
     "execution_count": 33,
     "metadata": {},
     "output_type": "execute_result"
    }
   ],
   "source": [
    "%time my_clf.predict_proba(X_test)"
   ]
  },
  {
   "cell_type": "code",
   "execution_count": 34,
   "metadata": {},
   "outputs": [
    {
     "data": {
      "text/plain": [
       "0.9685714285714285"
      ]
     },
     "execution_count": 34,
     "metadata": {},
     "output_type": "execute_result"
    }
   ],
   "source": [
    "clf.score(X_test, y_test)"
   ]
  },
  {
   "cell_type": "code",
   "execution_count": 35,
   "metadata": {},
   "outputs": [
    {
     "data": {
      "text/plain": [
       "0.9685714285714285"
      ]
     },
     "execution_count": 35,
     "metadata": {},
     "output_type": "execute_result"
    }
   ],
   "source": [
    "my_clf.score(X_test, y_test)"
   ]
  },
  {
   "cell_type": "markdown",
   "metadata": {},
   "source": [
    "Задание 5"
   ]
  },
  {
   "cell_type": "code",
   "execution_count": 36,
   "metadata": {},
   "outputs": [],
   "source": [
    "# seaborn - библиотека визуализации данных, основанная на matplotlib, удобно строить статистические графики\n",
    "# matplotlib - библиотека визуализации данных, тоже построение графиков, но seaborn  удобнее при работе с DataFrame\n",
    "# train_test_split - функция разделения данных на обучающую и тестовую выборки\n",
    "# Pipeline (from sklearn.pipeline import Pipeline) - класс, контейнерный классификатор - последовательные\n",
    "# преобразования исходного набора данных (для настройки параметров модели)\n",
    "# StandardScaler (from sklearn.preprocessing import StandardScaler) - класс, стандартизация объектов путем удаления\n",
    "# среднего и масштабирования до единичной дисперсии\n",
    "# ClassifierMixin - класс для всех классификаторов в scikit-learn (родительский класс для KNeighborsClassifier)\n",
    "# NeighborsBase - оценка ближайших соседей (родительский класс для KNeighborsClassifier)\n",
    "# KNeighborsMixin - поиск k соседей (родительский класс для KNeighborsClassifier)\n",
    "# SupervisedIntegerMixin - проверка принадлежности типа int(родительский класс для KNeighborsClassifier)"
   ]
  }
 ],
 "metadata": {
  "kernelspec": {
   "display_name": "Python 3",
   "language": "python",
   "name": "python3"
  },
  "language_info": {
   "codemirror_mode": {
    "name": "ipython",
    "version": 3
   },
   "file_extension": ".py",
   "mimetype": "text/x-python",
   "name": "python",
   "nbconvert_exporter": "python",
   "pygments_lexer": "ipython3",
   "version": "3.7.1"
  }
 },
 "nbformat": 4,
 "nbformat_minor": 2
}
